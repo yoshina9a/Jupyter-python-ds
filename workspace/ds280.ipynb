{
 "cells": [
  {
   "cell_type": "code",
   "execution_count": 1,
   "id": "8e7b64f3-ec6a-4827-8e6e-a99acdb08f51",
   "metadata": {},
   "outputs": [],
   "source": [
    "import numpy as np"
   ]
  },
  {
   "cell_type": "code",
   "execution_count": 2,
   "id": "8e5263ab-6d06-449c-aa77-bd06a3799e01",
   "metadata": {},
   "outputs": [],
   "source": [
    "m1 = np.array([[5,12, 6], [-3, 0, 14]])"
   ]
  },
  {
   "cell_type": "code",
   "execution_count": 3,
   "id": "9fad23d6-db8f-4959-95ba-20a21eda4b0c",
   "metadata": {},
   "outputs": [
    {
     "data": {
      "text/plain": [
       "array([[ 5, 12,  6],\n",
       "       [-3,  0, 14]])"
      ]
     },
     "execution_count": 3,
     "metadata": {},
     "output_type": "execute_result"
    }
   ],
   "source": [
    "m1"
   ]
  },
  {
   "cell_type": "code",
   "execution_count": 4,
   "id": "498e392c-b9bd-4b1d-9fe3-2aece4d69186",
   "metadata": {},
   "outputs": [],
   "source": [
    "m2 = np.array([[9, 8, 7],[1, 3, -5]])"
   ]
  },
  {
   "cell_type": "code",
   "execution_count": 5,
   "id": "f5dfe82f-c3d6-422c-897b-bd7670ac68ff",
   "metadata": {},
   "outputs": [
    {
     "data": {
      "text/plain": [
       "array([[ 9,  8,  7],\n",
       "       [ 1,  3, -5]])"
      ]
     },
     "execution_count": 5,
     "metadata": {},
     "output_type": "execute_result"
    }
   ],
   "source": [
    "m2"
   ]
  },
  {
   "cell_type": "code",
   "execution_count": 6,
   "id": "3aae02f4-1c4a-4484-b1c6-a72067d821ba",
   "metadata": {},
   "outputs": [],
   "source": [
    "t = np.array([m1, m2])"
   ]
  },
  {
   "cell_type": "code",
   "execution_count": 7,
   "id": "03b1ad1c-325d-45b9-bbab-35501be5ce08",
   "metadata": {},
   "outputs": [
    {
     "data": {
      "text/plain": [
       "array([[[ 5, 12,  6],\n",
       "        [-3,  0, 14]],\n",
       "\n",
       "       [[ 9,  8,  7],\n",
       "        [ 1,  3, -5]]])"
      ]
     },
     "execution_count": 7,
     "metadata": {},
     "output_type": "execute_result"
    }
   ],
   "source": [
    "t"
   ]
  },
  {
   "cell_type": "code",
   "execution_count": 8,
   "id": "1c88c11b-1c89-4957-9ab7-c9e1326f5b07",
   "metadata": {},
   "outputs": [
    {
     "data": {
      "text/plain": [
       "(2, 2, 3)"
      ]
     },
     "execution_count": 8,
     "metadata": {},
     "output_type": "execute_result"
    }
   ],
   "source": [
    "t.shape"
   ]
  },
  {
   "cell_type": "code",
   "execution_count": 9,
   "id": "1b0976c1-3a60-4e1a-b4cf-8c54634088eb",
   "metadata": {},
   "outputs": [],
   "source": [
    "t_manual = np.array([[[5, 12, 6], [-3, 0, 9]],[[0, 8, 7], [1, 3, -5]]])"
   ]
  },
  {
   "cell_type": "code",
   "execution_count": 10,
   "id": "4bc6f523-330d-4c6e-b0bd-0c81a46cace8",
   "metadata": {},
   "outputs": [
    {
     "data": {
      "text/plain": [
       "array([[[ 5, 12,  6],\n",
       "        [-3,  0,  9]],\n",
       "\n",
       "       [[ 0,  8,  7],\n",
       "        [ 1,  3, -5]]])"
      ]
     },
     "execution_count": 10,
     "metadata": {},
     "output_type": "execute_result"
    }
   ],
   "source": [
    "t_manual"
   ]
  },
  {
   "cell_type": "code",
   "execution_count": null,
   "id": "1c605b11-3614-4aff-8ffd-0e82afa90263",
   "metadata": {},
   "outputs": [],
   "source": []
  }
 ],
 "metadata": {
  "kernelspec": {
   "display_name": "Python 3 (ipykernel)",
   "language": "python",
   "name": "python3"
  },
  "language_info": {
   "codemirror_mode": {
    "name": "ipython",
    "version": 3
   },
   "file_extension": ".py",
   "mimetype": "text/x-python",
   "name": "python",
   "nbconvert_exporter": "python",
   "pygments_lexer": "ipython3",
   "version": "3.9.7"
  }
 },
 "nbformat": 4,
 "nbformat_minor": 5
}
