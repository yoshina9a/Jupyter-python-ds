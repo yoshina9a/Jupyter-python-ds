{
 "cells": [
  {
   "cell_type": "markdown",
   "metadata": {
    "id": "PoBQzoS2ZFn7"
   },
   "source": [
    "# カテゴリデータのクラスタリング"
   ]
  },
  {
   "cell_type": "markdown",
   "metadata": {
    "id": "AP3kcM10ZFn9"
   },
   "source": [
    "ここに多くの国のデータがありますが、これを同じ方法でクラスタリングしていきましょう\n",
    "    \n",
    "追加された特徴量として: 名前と大陸があります "
   ]
  },
  {
   "cell_type": "markdown",
   "metadata": {
    "id": "k-eJQ6O3ZFn-"
   },
   "source": [
    "## ライブラリのインポート"
   ]
  },
  {
   "cell_type": "code",
   "execution_count": 1,
   "metadata": {
    "id": "JM4BQRzgZFn-"
   },
   "outputs": [],
   "source": [
    "import pandas as pd\n",
    "import matplotlib.pyplot as plt\n",
    "import seaborn as sns\n",
    "sns.set()\n",
    "from sklearn.cluster import KMeans"
   ]
  },
  {
   "cell_type": "markdown",
   "metadata": {
    "id": "1h_dpfzvZFn_"
   },
   "source": [
    "## データの読み込み"
   ]
  },
  {
   "cell_type": "code",
   "execution_count": null,
   "metadata": {
    "id": "SXIJYO3cZFn_",
    "scrolled": true
   },
   "outputs": [],
   "source": [
    "# データを読み込みます\n",
    "raw_data = pd.read_csv('Categorical.csv')\n",
    "# データの中身を確認します\n",
    "raw_data"
   ]
  },
  {
   "cell_type": "markdown",
   "metadata": {
    "id": "QdRmWK5TZFn_"
   },
   "source": [
    "コピーを作成します"
   ]
  },
  {
   "cell_type": "code",
   "execution_count": null,
   "metadata": {
    "id": "r1KXVpLYZFn_"
   },
   "outputs": [],
   "source": [
    "data = raw_data.copy()"
   ]
  },
  {
   "cell_type": "markdown",
   "metadata": {
    "id": "PNn2hELDZFoA"
   },
   "source": [
    "## Mapメソッドの適用"
   ]
  },
  {
   "cell_type": "markdown",
   "metadata": {
    "id": "iVmebwYWZFoA"
   },
   "source": [
    " <i>'continent'</i> をmapメソッドを使って置き換えていきます"
   ]
  },
  {
   "cell_type": "code",
   "execution_count": null,
   "metadata": {
    "id": "A9tWdet_ZFoA"
   },
   "outputs": [],
   "source": [
    "data_mapped = data.copy()\n",
    "data_mapped['continent'] = data_mapped['continent'].map({'North America':0,'Europe':1,'Asia':2,'Africa':3,'South America':4, 'Oceania':5,'Seven seas (open ocean)':6, 'Antarctica':7})\n",
    "data_mapped"
   ]
  },
  {
   "cell_type": "markdown",
   "metadata": {
    "id": "nyds74OoZFoA"
   },
   "source": [
    "## 特徴量の選択"
   ]
  },
  {
   "cell_type": "code",
   "execution_count": null,
   "metadata": {
    "id": "RIHsLXt_ZFoB"
   },
   "outputs": [],
   "source": [
    "x = data_mapped.iloc[:,3:4]"
   ]
  },
  {
   "cell_type": "markdown",
   "metadata": {
    "id": "pZWVycLKZFoB"
   },
   "source": [
    "## クラスタリング"
   ]
  },
  {
   "cell_type": "markdown",
   "metadata": {
    "id": "HoyWhOFXZFoB"
   },
   "source": [
    "まずは4つから始めます"
   ]
  },
  {
   "cell_type": "code",
   "execution_count": null,
   "metadata": {
    "id": "yKkgfGqoZFoB",
    "scrolled": true
   },
   "outputs": [],
   "source": [
    "kmeans = KMeans(4)\n",
    "kmeans.fit(x)"
   ]
  },
  {
   "cell_type": "markdown",
   "metadata": {
    "id": "WMCJOAvHZFoB"
   },
   "source": [
    "## クラスタリングの結果"
   ]
  },
  {
   "cell_type": "code",
   "execution_count": null,
   "metadata": {
    "id": "qxP_COwpZFoC"
   },
   "outputs": [],
   "source": [
    "identified_clusters = kmeans.fit_predict(x)\n",
    "identified_clusters"
   ]
  },
  {
   "cell_type": "code",
   "execution_count": null,
   "metadata": {
    "id": "EW_Gk8b5ZFoC",
    "scrolled": true
   },
   "outputs": [],
   "source": [
    "data_with_clusters = data_mapped.copy()\n",
    "data_with_clusters['Cluster'] = identified_clusters\n",
    "data_with_clusters"
   ]
  },
  {
   "cell_type": "markdown",
   "metadata": {
    "id": "h3KY2vyeZFoC"
   },
   "source": [
    "## データのプロット"
   ]
  },
  {
   "cell_type": "code",
   "execution_count": null,
   "metadata": {
    "id": "vx6YOzQDZFoC"
   },
   "outputs": [],
   "source": [
    "plt.scatter(data['Longitude'], data['Latitude'], c=data_with_clusters['Cluster'], cmap = 'rainbow')\n",
    "plt.xlim(-180,180)\n",
    "plt.ylim(-90, 90)\n",
    "plt.show()"
   ]
  }
 ],
 "metadata": {
  "colab": {
   "collapsed_sections": [],
   "name": "Clustering Categorical Data - Solution.ipynb",
   "provenance": [],
   "toc_visible": true
  },
  "kernelspec": {
   "display_name": "Python 3 (ipykernel)",
   "language": "python",
   "name": "python3"
  },
  "language_info": {
   "codemirror_mode": {
    "name": "ipython",
    "version": 3
   },
   "file_extension": ".py",
   "mimetype": "text/x-python",
   "name": "python",
   "nbconvert_exporter": "python",
   "pygments_lexer": "ipython3",
   "version": "3.9.7"
  }
 },
 "nbformat": 4,
 "nbformat_minor": 4
}
