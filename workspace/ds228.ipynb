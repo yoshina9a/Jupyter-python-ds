{
 "cells": [
  {
   "cell_type": "code",
   "execution_count": 1,
   "id": "06e6ad4f-3bcb-4b19-89f4-fd5ffe656480",
   "metadata": {},
   "outputs": [],
   "source": [
    "import numpy as np\n",
    "\n",
    "from sklearn.model_selection import train_test_split"
   ]
  },
  {
   "cell_type": "code",
   "execution_count": 2,
   "id": "e53df240-85ef-4c83-8ac6-c90b1b076be6",
   "metadata": {},
   "outputs": [],
   "source": [
    "a = np.arange(1, 101)"
   ]
  },
  {
   "cell_type": "code",
   "execution_count": 3,
   "id": "d5f51afa-ffd7-428f-a385-8d1ed17ab87a",
   "metadata": {},
   "outputs": [
    {
     "data": {
      "text/plain": [
       "array([  1,   2,   3,   4,   5,   6,   7,   8,   9,  10,  11,  12,  13,\n",
       "        14,  15,  16,  17,  18,  19,  20,  21,  22,  23,  24,  25,  26,\n",
       "        27,  28,  29,  30,  31,  32,  33,  34,  35,  36,  37,  38,  39,\n",
       "        40,  41,  42,  43,  44,  45,  46,  47,  48,  49,  50,  51,  52,\n",
       "        53,  54,  55,  56,  57,  58,  59,  60,  61,  62,  63,  64,  65,\n",
       "        66,  67,  68,  69,  70,  71,  72,  73,  74,  75,  76,  77,  78,\n",
       "        79,  80,  81,  82,  83,  84,  85,  86,  87,  88,  89,  90,  91,\n",
       "        92,  93,  94,  95,  96,  97,  98,  99, 100])"
      ]
     },
     "execution_count": 3,
     "metadata": {},
     "output_type": "execute_result"
    }
   ],
   "source": [
    "a"
   ]
  },
  {
   "cell_type": "code",
   "execution_count": 4,
   "id": "d6288b3c-a3a9-49f0-807e-748fb503a2c0",
   "metadata": {},
   "outputs": [],
   "source": [
    "b = np.arange(501, 601)"
   ]
  },
  {
   "cell_type": "code",
   "execution_count": 5,
   "id": "04eeeb6e-b9cd-4806-bf5c-b0cca32a00d3",
   "metadata": {},
   "outputs": [
    {
     "data": {
      "text/plain": [
       "array([501, 502, 503, 504, 505, 506, 507, 508, 509, 510, 511, 512, 513,\n",
       "       514, 515, 516, 517, 518, 519, 520, 521, 522, 523, 524, 525, 526,\n",
       "       527, 528, 529, 530, 531, 532, 533, 534, 535, 536, 537, 538, 539,\n",
       "       540, 541, 542, 543, 544, 545, 546, 547, 548, 549, 550, 551, 552,\n",
       "       553, 554, 555, 556, 557, 558, 559, 560, 561, 562, 563, 564, 565,\n",
       "       566, 567, 568, 569, 570, 571, 572, 573, 574, 575, 576, 577, 578,\n",
       "       579, 580, 581, 582, 583, 584, 585, 586, 587, 588, 589, 590, 591,\n",
       "       592, 593, 594, 595, 596, 597, 598, 599, 600])"
      ]
     },
     "execution_count": 5,
     "metadata": {},
     "output_type": "execute_result"
    }
   ],
   "source": [
    "b"
   ]
  },
  {
   "cell_type": "code",
   "execution_count": 6,
   "id": "48c23d0b-4979-4392-9ba7-d3f25058b505",
   "metadata": {},
   "outputs": [
    {
     "data": {
      "text/plain": [
       "[array([  7,  76,  80,   4,  92,  98,  81,  90,  63,  25,  24,  58,  41,\n",
       "         72,  84, 100,  48,  83,   2,  64,  23,  54,  18,  70,  21,  42,\n",
       "         69,  45,  22,  15,  77,  94,  50,  46,  61,  96,  73,  36,  37,\n",
       "         97,   5,  19,  87,  51,  10,  40,  67,  31,  86,  44,  16,  32,\n",
       "         34,  11,  13,  85,  43,  29,  99,  39,  95,  71,  12,  49,  66,\n",
       "         75,  20,  14,  74,  35,  82,  93,  56,  91,  57]),\n",
       " array([17, 27,  6, 55,  3,  8, 59, 53, 89, 30, 47, 79, 33,  1, 28, 78, 38,\n",
       "        68,  9, 65, 52, 26, 88, 62, 60])]"
      ]
     },
     "execution_count": 6,
     "metadata": {},
     "output_type": "execute_result"
    }
   ],
   "source": [
    "train_test_split(a)"
   ]
  },
  {
   "cell_type": "code",
   "execution_count": 34,
   "id": "eb60ee7a-67f8-44e3-aa8e-37f0cabf6919",
   "metadata": {},
   "outputs": [],
   "source": [
    "a_train, a_test, b_train, b_test = train_test_split(a, b, test_size = 0.2, shuffle = True, random_state = 42)"
   ]
  },
  {
   "cell_type": "code",
   "execution_count": 35,
   "id": "165f8af1-e13e-4b9d-8901-f8e633b14311",
   "metadata": {},
   "outputs": [
    {
     "data": {
      "text/plain": [
       "((80,), (20,), (80,), (20,))"
      ]
     },
     "execution_count": 35,
     "metadata": {},
     "output_type": "execute_result"
    }
   ],
   "source": [
    "a_train.shape, a_test.shape, b_train.shape, b_test.shape"
   ]
  },
  {
   "cell_type": "code",
   "execution_count": 32,
   "id": "865584f4-022c-440c-9745-c24911d7bb93",
   "metadata": {},
   "outputs": [
    {
     "data": {
      "text/plain": [
       "array([ 38,  96,  18,  58,  70,   6,  66,   3,  82,   5,  76,   2,   9,\n",
       "        12,  25,  37,  72,  61,  56,  75,  54,  90,  97,  16,  84,  83,\n",
       "        10,  88, 100,  40,  65,  24,  11,  67,  60,  87,  42,  71,  98,\n",
       "        34,  43,  46,  20,  22,  64,  23,  36,  45,  85,  95,   8,  49,\n",
       "        86,  73,  19,  28,  68,  13,  92,  50,  31,  81,  57,   1,  89,\n",
       "        94,  47,  33,  29,  63,  62,  51,  53,  17,  30,  14,   7,   4,\n",
       "        35,  52])"
      ]
     },
     "execution_count": 32,
     "metadata": {},
     "output_type": "execute_result"
    }
   ],
   "source": [
    "a_train"
   ]
  },
  {
   "cell_type": "code",
   "execution_count": 27,
   "id": "7d8817ef-0e14-46be-a3b9-fed0d173f5e9",
   "metadata": {},
   "outputs": [
    {
     "data": {
      "text/plain": [
       "array([84, 54, 71, 46, 45, 40, 23, 81, 11,  1, 19, 31, 74, 34, 91,  5, 77,\n",
       "       78, 13, 32])"
      ]
     },
     "execution_count": 27,
     "metadata": {},
     "output_type": "execute_result"
    }
   ],
   "source": [
    "a_test"
   ]
  },
  {
   "cell_type": "code",
   "execution_count": 36,
   "id": "f607015f-9644-4cdf-83c4-745fa8f9ba65",
   "metadata": {},
   "outputs": [
    {
     "data": {
      "text/plain": [
       "(array([556, 589, 527, 543, 570, 516, 541, 597, 510, 573, 512, 548, 586,\n",
       "        529, 594, 506, 567, 566, 536, 517, 550, 535, 508, 596, 528, 520,\n",
       "        582, 526, 563, 514, 525, 504, 518, 539, 509, 579, 507, 565, 537,\n",
       "        590, 557, 600, 555, 544, 551, 568, 547, 569, 562, 598, 580, 542,\n",
       "        559, 549, 599, 558, 576, 533, 595, 560, 564, 585, 538, 530, 502,\n",
       "        553, 522, 503, 524, 588, 592, 575, 587, 583, 521, 561, 572, 515,\n",
       "        593, 552]),\n",
       " array([584, 554, 571, 546, 545, 540, 523, 581, 511, 501, 519, 531, 574,\n",
       "        534, 591, 505, 577, 578, 513, 532]))"
      ]
     },
     "execution_count": 36,
     "metadata": {},
     "output_type": "execute_result"
    }
   ],
   "source": [
    "b_train, b_test"
   ]
  },
  {
   "cell_type": "code",
   "execution_count": null,
   "id": "ba76b501-6b4b-441a-a281-08a590759100",
   "metadata": {},
   "outputs": [],
   "source": []
  }
 ],
 "metadata": {
  "kernelspec": {
   "display_name": "Python 3 (ipykernel)",
   "language": "python",
   "name": "python3"
  },
  "language_info": {
   "codemirror_mode": {
    "name": "ipython",
    "version": 3
   },
   "file_extension": ".py",
   "mimetype": "text/x-python",
   "name": "python",
   "nbconvert_exporter": "python",
   "pygments_lexer": "ipython3",
   "version": "3.9.7"
  }
 },
 "nbformat": 4,
 "nbformat_minor": 5
}
